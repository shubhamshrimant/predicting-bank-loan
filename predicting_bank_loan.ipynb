{
 "cells": [
  {
   "cell_type": "code",
   "execution_count": 164,
   "id": "e3e963e4",
   "metadata": {},
   "outputs": [],
   "source": [
    "import pandas as pd\n",
    "import numpy as np\n",
    "import math"
   ]
  },
  {
   "cell_type": "code",
   "execution_count": 165,
   "id": "3d5f1fd8",
   "metadata": {},
   "outputs": [],
   "source": [
    "train=pd.read_csv('cipla\\\\dataset\\\\train.csv')"
   ]
  },
  {
   "cell_type": "code",
   "execution_count": 166,
   "id": "d17c753d",
   "metadata": {},
   "outputs": [
    {
     "name": "stdout",
     "output_type": "stream",
     "text": [
      "Customer ID                       0\n",
      "Name                              0\n",
      "Gender                           53\n",
      "Age                               0\n",
      "Income (USD)                   4576\n",
      "Income Stability               1683\n",
      "Profession                        0\n",
      "Type of Employment             7270\n",
      "Location                          0\n",
      "Loan Amount Request (USD)         0\n",
      "Current Loan Expenses (USD)     172\n",
      "Expense Type 1                    0\n",
      "Expense Type 2                    0\n",
      "Dependents                     2493\n",
      "Credit Score                   1703\n",
      "No. of Defaults                   0\n",
      "Has Active Credit Card         1566\n",
      "Property ID                       0\n",
      "Property Age                   4850\n",
      "Property Type                     0\n",
      "Property Location               356\n",
      "Co-Applicant                      0\n",
      "Property Price                    0\n",
      "Loan Sanction Amount (USD)      340\n",
      "dtype: int64\n"
     ]
    }
   ],
   "source": [
    "print(train.isna().sum())"
   ]
  },
  {
   "cell_type": "code",
   "execution_count": 167,
   "id": "2ee3b7d8",
   "metadata": {},
   "outputs": [],
   "source": [
    "train=train[train['Loan Sanction Amount (USD)'].notna()]"
   ]
  },
  {
   "cell_type": "code",
   "execution_count": 168,
   "id": "b6c5cedd",
   "metadata": {},
   "outputs": [],
   "source": [
    "col=train.columns"
   ]
  },
  {
   "cell_type": "code",
   "execution_count": 169,
   "id": "0b503c57",
   "metadata": {},
   "outputs": [],
   "source": [
    "for c in col:\n",
    "    if train[c].isna().sum()>0:\n",
    "        if train[c].dtype=='float64':\n",
    "            train[c]=train[c].fillna(train[c].mean())\n",
    "        elif train[c].dtype=='int64':\n",
    "            train[c]=train[c].fillna(train[c].mean())"
   ]
  },
  {
   "cell_type": "code",
   "execution_count": 170,
   "id": "d9f28bba",
   "metadata": {},
   "outputs": [],
   "source": [
    "train['Gender'] = train['Gender'].replace(np.nan, 'Unspecified')\n",
    "train['Income Stability'] = train['Income Stability'].fillna(train['Income Stability'].mode().iloc[0])\n",
    "train['Type of Employment'] = train['Type of Employment'].fillna(train['Type of Employment'].mode().iloc[0])\n",
    "train['Has Active Credit Card'] = train['Has Active Credit Card'].fillna(train['Has Active Credit Card'].mode().iloc[0])\n",
    "train['Property Location'] = train['Property Location'].fillna(train['Property Location'].mode().iloc[0])\n"
   ]
  },
  {
   "cell_type": "code",
   "execution_count": 171,
   "id": "c8a9d5d7",
   "metadata": {},
   "outputs": [
    {
     "name": "stdout",
     "output_type": "stream",
     "text": [
      "Customer ID                    0\n",
      "Name                           0\n",
      "Gender                         0\n",
      "Age                            0\n",
      "Income (USD)                   0\n",
      "Income Stability               0\n",
      "Profession                     0\n",
      "Type of Employment             0\n",
      "Location                       0\n",
      "Loan Amount Request (USD)      0\n",
      "Current Loan Expenses (USD)    0\n",
      "Expense Type 1                 0\n",
      "Expense Type 2                 0\n",
      "Dependents                     0\n",
      "Credit Score                   0\n",
      "No. of Defaults                0\n",
      "Has Active Credit Card         0\n",
      "Property ID                    0\n",
      "Property Age                   0\n",
      "Property Type                  0\n",
      "Property Location              0\n",
      "Co-Applicant                   0\n",
      "Property Price                 0\n",
      "Loan Sanction Amount (USD)     0\n",
      "dtype: int64\n"
     ]
    }
   ],
   "source": [
    "print(train.isna().sum())"
   ]
  },
  {
   "cell_type": "code",
   "execution_count": 172,
   "id": "9433e48d",
   "metadata": {},
   "outputs": [],
   "source": [
    "# for col in ['Customer ID', 'Name', 'Gender', 'Income Stability','Profession','Type of Employment','Location','Expense Type 1','Expense Type 2','Has Active Credit Card','Property Location']:\n",
    "#     train[col] = train[col].astype('category').cat.codes"
   ]
  },
  {
   "cell_type": "code",
   "execution_count": 173,
   "id": "c7d79e37",
   "metadata": {},
   "outputs": [],
   "source": [
    "X = train[['Current Loan Expenses (USD)', 'Customer ID', 'Property Price', 'Loan Amount Request (USD)', 'Credit Score', 'Income Stability', 'Dependents', 'Expense Type 2', 'Location', 'Profession', 'Age']]\n",
    "y = train.iloc[:, -1].values"
   ]
  },
  {
   "cell_type": "code",
   "execution_count": 174,
   "id": "76f77cc5",
   "metadata": {},
   "outputs": [
    {
     "name": "stdout",
     "output_type": "stream",
     "text": [
      "<class 'pandas.core.frame.DataFrame'>\n",
      "Int64Index: 29660 entries, 0 to 29999\n",
      "Data columns (total 11 columns):\n",
      " #   Column                       Non-Null Count  Dtype  \n",
      "---  ------                       --------------  -----  \n",
      " 0   Current Loan Expenses (USD)  29660 non-null  float64\n",
      " 1   Customer ID                  29660 non-null  object \n",
      " 2   Property Price               29660 non-null  float64\n",
      " 3   Loan Amount Request (USD)    29660 non-null  float64\n",
      " 4   Credit Score                 29660 non-null  float64\n",
      " 5   Income Stability             29660 non-null  object \n",
      " 6   Dependents                   29660 non-null  float64\n",
      " 7   Expense Type 2               29660 non-null  object \n",
      " 8   Location                     29660 non-null  object \n",
      " 9   Profession                   29660 non-null  object \n",
      " 10  Age                          29660 non-null  int64  \n",
      "dtypes: float64(5), int64(1), object(5)\n",
      "memory usage: 2.7+ MB\n",
      "None\n"
     ]
    }
   ],
   "source": [
    "print(X.info())"
   ]
  },
  {
   "cell_type": "code",
   "execution_count": 175,
   "id": "cf46d049",
   "metadata": {},
   "outputs": [
    {
     "name": "stdout",
     "output_type": "stream",
     "text": [
      "Low     27116\n",
      "High     2544\n",
      "Name: Income Stability, dtype: int64\n"
     ]
    }
   ],
   "source": [
    "print(X['Income Stability'].value_counts())"
   ]
  },
  {
   "cell_type": "code",
   "execution_count": 176,
   "id": "8e3d6a8b",
   "metadata": {},
   "outputs": [],
   "source": [
    "X=X.values"
   ]
  },
  {
   "cell_type": "code",
   "execution_count": 177,
   "id": "343b47a0",
   "metadata": {},
   "outputs": [
    {
     "data": {
      "text/plain": [
       "\"from sklearn.compose import ColumnTransformer\\nfrom sklearn.preprocessing import OneHotEncoder\\n# ct1 = ColumnTransformer(transformers=[('encoder', OneHotEncoder(), [1])], remainder='passthrough')\\n# ct2 = ColumnTransformer(transformers=[('encoder', OneHotEncoder(), [5])], remainder='passthrough')\\n# ct3 = ColumnTransformer(transformers=[('encoder', OneHotEncoder(), [7])], remainder='passthrough')\\n# ct4 = ColumnTransformer(transformers=[('encoder', OneHotEncoder(), [8])], remainder='passthrough')\\n# ct5 = ColumnTransformer(transformers=[('encoder', OneHotEncoder(), [9])], remainder='passthrough')\\n\\n# X=X.reshape(-1,1)\\n# X.iloc[:,1] = ct1.fit_transform(X.iloc[:,1])\\n# X.iloc[:,5] = ct1.fit_transform(X.iloc[:,5])\\n# X.iloc[:,7] = ct1.fit_transform(X.iloc[:,7])\\n# X.iloc[:,8] = ct1.fit_transform(X.iloc[:,8])\\n# X.iloc[:,9] = ct1.fit_transform(X.iloc[:,9])\\nct1 = ColumnTransformer(transformers=[('encoder', OneHotEncoder(), [1,5,7,8,9])], remainder='passthrough')\\nX=np.array(X)\\nX = ct1.fit_transform(X)\\nprint(X)\\n\""
      ]
     },
     "execution_count": 177,
     "metadata": {},
     "output_type": "execute_result"
    }
   ],
   "source": [
    "'''from sklearn.compose import ColumnTransformer\n",
    "from sklearn.preprocessing import OneHotEncoder\n",
    "# ct1 = ColumnTransformer(transformers=[('encoder', OneHotEncoder(), [1])], remainder='passthrough')\n",
    "# ct2 = ColumnTransformer(transformers=[('encoder', OneHotEncoder(), [5])], remainder='passthrough')\n",
    "# ct3 = ColumnTransformer(transformers=[('encoder', OneHotEncoder(), [7])], remainder='passthrough')\n",
    "# ct4 = ColumnTransformer(transformers=[('encoder', OneHotEncoder(), [8])], remainder='passthrough')\n",
    "# ct5 = ColumnTransformer(transformers=[('encoder', OneHotEncoder(), [9])], remainder='passthrough')\n",
    "\n",
    "# X=X.reshape(-1,1)\n",
    "# X.iloc[:,1] = ct1.fit_transform(X.iloc[:,1])\n",
    "# X.iloc[:,5] = ct1.fit_transform(X.iloc[:,5])\n",
    "# X.iloc[:,7] = ct1.fit_transform(X.iloc[:,7])\n",
    "# X.iloc[:,8] = ct1.fit_transform(X.iloc[:,8])\n",
    "# X.iloc[:,9] = ct1.fit_transform(X.iloc[:,9])\n",
    "ct1 = ColumnTransformer(transformers=[('encoder', OneHotEncoder(), [1,5,7,8,9])], remainder='passthrough')\n",
    "X=np.array(X)\n",
    "X = ct1.fit_transform(X)\n",
    "print(X)\n",
    "'''\n"
   ]
  },
  {
   "cell_type": "code",
   "execution_count": 178,
   "id": "5d91f66e",
   "metadata": {},
   "outputs": [
    {
     "name": "stdout",
     "output_type": "stream",
     "text": [
      "[[241.08 17817 119933.46 ... 1 7 56]\n",
      " [495.81 15819 54791.0 ... 1 7 32]\n",
      " [171.95 18289 72440.58 ... 1 3 65]\n",
      " ...\n",
      " [583.11 26625 102108.02 ... 2 7 49]\n",
      " [378.29 1399 168194.47 ... 1 7 38]\n",
      " [693.94 15148 194512.6 ... 0 3 63]]\n"
     ]
    }
   ],
   "source": [
    "from sklearn.preprocessing import LabelEncoder\n",
    "le = LabelEncoder()\n",
    "X[:,1] = le.fit_transform(X[:,1])\n",
    "X[:,5] = le.fit_transform(X[:,5])\n",
    "X[:,7] = le.fit_transform(X[:,7])\n",
    "X[:,8] = le.fit_transform(X[:,8])\n",
    "X[:,9] = le.fit_transform(X[:,9])\n",
    "print(X)"
   ]
  },
  {
   "cell_type": "code",
   "execution_count": 179,
   "id": "5246a163",
   "metadata": {},
   "outputs": [],
   "source": [
    "#print(X.shape)"
   ]
  },
  {
   "cell_type": "code",
   "execution_count": null,
   "id": "e1a5fdda",
   "metadata": {},
   "outputs": [],
   "source": []
  },
  {
   "cell_type": "code",
   "execution_count": null,
   "id": "e2794c2f",
   "metadata": {},
   "outputs": [],
   "source": []
  },
  {
   "cell_type": "code",
   "execution_count": 180,
   "id": "9fd036ca",
   "metadata": {},
   "outputs": [],
   "source": [
    "from sklearn.model_selection import train_test_split\n",
    "X_train, X_test, y_train, y_test = train_test_split(X, y, test_size = 0.2, random_state = 0)\n"
   ]
  },
  {
   "cell_type": "code",
   "execution_count": null,
   "id": "748ad9f2",
   "metadata": {},
   "outputs": [],
   "source": []
  },
  {
   "cell_type": "code",
   "execution_count": 181,
   "id": "add29fff",
   "metadata": {},
   "outputs": [],
   "source": [
    "from sklearn.preprocessing import StandardScaler\n",
    "sc = StandardScaler(with_mean=False)\n",
    "X_train = sc.fit_transform(X_train)\n",
    "X_test = sc.transform(X_test)"
   ]
  },
  {
   "cell_type": "code",
   "execution_count": 182,
   "id": "bce82bf5",
   "metadata": {},
   "outputs": [
    {
     "data": {
      "text/plain": [
       "RandomForestRegressor(n_estimators=10, random_state=0)"
      ]
     },
     "execution_count": 182,
     "metadata": {},
     "output_type": "execute_result"
    }
   ],
   "source": [
    "from sklearn.ensemble import RandomForestRegressor\n",
    "regressor = RandomForestRegressor(n_estimators = 10, random_state = 0)\n",
    "regressor.fit(X_train, y_train)"
   ]
  },
  {
   "cell_type": "code",
   "execution_count": 183,
   "id": "e5d618a1",
   "metadata": {},
   "outputs": [],
   "source": [
    "y_pred=regressor.predict(X_test)\n"
   ]
  },
  {
   "cell_type": "code",
   "execution_count": 184,
   "id": "f7bc9069",
   "metadata": {},
   "outputs": [
    {
     "name": "stdout",
     "output_type": "stream",
     "text": [
      "[[ 39372.669  38121.4  ]\n",
      " [ 69764.736  77125.86 ]\n",
      " [285612.711 313502.39 ]\n",
      " ...\n",
      " [ 21859.396  25674.22 ]\n",
      " [ 17517.661   -999.   ]\n",
      " [     0.         0.   ]]\n"
     ]
    }
   ],
   "source": [
    "print(np.concatenate((y_pred.reshape(len(y_pred),1), y_test.reshape(len(y_test),1)),1))"
   ]
  },
  {
   "cell_type": "code",
   "execution_count": 185,
   "id": "e9b5b0d6",
   "metadata": {},
   "outputs": [],
   "source": [
    "from sklearn.metrics import r2_score,mean_squared_error,explained_variance_score"
   ]
  },
  {
   "cell_type": "code",
   "execution_count": 186,
   "id": "adaee1fe",
   "metadata": {},
   "outputs": [
    {
     "name": "stdout",
     "output_type": "stream",
     "text": [
      "0.9131745826939108\n"
     ]
    }
   ],
   "source": [
    "print(r2_score(y_test,y_pred))\n"
   ]
  },
  {
   "cell_type": "code",
   "execution_count": 187,
   "id": "c643914d",
   "metadata": {},
   "outputs": [
    {
     "name": "stdout",
     "output_type": "stream",
     "text": [
      "14047.644153837246\n",
      "0.9132354447522197\n"
     ]
    }
   ],
   "source": [
    "print(math.sqrt(mean_squared_error(y_test,y_pred)))\n",
    "print(explained_variance_score(y_test,y_pred))"
   ]
  },
  {
   "cell_type": "code",
   "execution_count": 188,
   "id": "ecda1f59",
   "metadata": {},
   "outputs": [],
   "source": [
    "test=pd.read_csv('cipla\\\\dataset\\\\test.csv')"
   ]
  },
  {
   "cell_type": "code",
   "execution_count": 189,
   "id": "12c89a25",
   "metadata": {},
   "outputs": [],
   "source": [
    "test1=test.copy()"
   ]
  },
  {
   "cell_type": "code",
   "execution_count": 190,
   "id": "ff498a09",
   "metadata": {},
   "outputs": [
    {
     "name": "stdout",
     "output_type": "stream",
     "text": [
      "Customer ID                       0\n",
      "Name                              0\n",
      "Gender                           31\n",
      "Age                               0\n",
      "Income (USD)                    750\n",
      "Income Stability                813\n",
      "Profession                        0\n",
      "Type of Employment             4689\n",
      "Location                          0\n",
      "Loan Amount Request (USD)         0\n",
      "Current Loan Expenses (USD)      83\n",
      "Expense Type 1                    0\n",
      "Expense Type 2                    0\n",
      "Dependents                     1142\n",
      "Credit Score                    743\n",
      "No. of Defaults                   0\n",
      "Has Active Credit Card         1076\n",
      "Property ID                       0\n",
      "Property Age                    892\n",
      "Property Type                     0\n",
      "Property Location               160\n",
      "Co-Applicant                      0\n",
      "Property Price                    0\n",
      "dtype: int64\n"
     ]
    }
   ],
   "source": [
    "print(test.isna().sum())"
   ]
  },
  {
   "cell_type": "code",
   "execution_count": 191,
   "id": "f14d7f1b",
   "metadata": {},
   "outputs": [
    {
     "name": "stdout",
     "output_type": "stream",
     "text": [
      "<class 'pandas.core.frame.DataFrame'>\n",
      "RangeIndex: 20000 entries, 0 to 19999\n",
      "Data columns (total 23 columns):\n",
      " #   Column                       Non-Null Count  Dtype  \n",
      "---  ------                       --------------  -----  \n",
      " 0   Customer ID                  20000 non-null  object \n",
      " 1   Name                         20000 non-null  object \n",
      " 2   Gender                       19969 non-null  object \n",
      " 3   Age                          20000 non-null  int64  \n",
      " 4   Income (USD)                 19250 non-null  float64\n",
      " 5   Income Stability             19187 non-null  object \n",
      " 6   Profession                   20000 non-null  object \n",
      " 7   Type of Employment           15311 non-null  object \n",
      " 8   Location                     20000 non-null  object \n",
      " 9   Loan Amount Request (USD)    20000 non-null  float64\n",
      " 10  Current Loan Expenses (USD)  19917 non-null  float64\n",
      " 11  Expense Type 1               20000 non-null  object \n",
      " 12  Expense Type 2               20000 non-null  object \n",
      " 13  Dependents                   18858 non-null  float64\n",
      " 14  Credit Score                 19257 non-null  float64\n",
      " 15  No. of Defaults              20000 non-null  int64  \n",
      " 16  Has Active Credit Card       18924 non-null  object \n",
      " 17  Property ID                  20000 non-null  int64  \n",
      " 18  Property Age                 19108 non-null  float64\n",
      " 19  Property Type                20000 non-null  int64  \n",
      " 20  Property Location            19840 non-null  object \n",
      " 21  Co-Applicant                 20000 non-null  object \n",
      " 22  Property Price               20000 non-null  object \n",
      "dtypes: float64(6), int64(4), object(13)\n",
      "memory usage: 3.5+ MB\n",
      "None\n"
     ]
    }
   ],
   "source": [
    "print(test.info())"
   ]
  },
  {
   "cell_type": "code",
   "execution_count": 192,
   "id": "e1fbd9b5",
   "metadata": {},
   "outputs": [
    {
     "name": "stderr",
     "output_type": "stream",
     "text": [
      "<ipython-input-192-1948a2c015a0>:1: FutureWarning: The default value of regex will change from True to False in a future version. In addition, single character regular expressions will*not* be treated as literal strings when regex=True.\n",
      "  test['Property Price'] = test['Property Price'].str.replace('?', '-1')\n",
      "<ipython-input-192-1948a2c015a0>:2: FutureWarning: The default value of regex will change from True to False in a future version. In addition, single character regular expressions will*not* be treated as literal strings when regex=True.\n",
      "  test['Co-Applicant'] = test['Co-Applicant'].str.replace('?', '-1')\n"
     ]
    }
   ],
   "source": [
    "test['Property Price'] = test['Property Price'].str.replace('?', '-1')\n",
    "test['Co-Applicant'] = test['Co-Applicant'].str.replace('?', '-1')\n"
   ]
  },
  {
   "cell_type": "code",
   "execution_count": 193,
   "id": "d25e7d14",
   "metadata": {},
   "outputs": [],
   "source": [
    "test['Property Price']=test['Property Price'].astype(np.float64)\n",
    "test['Co-Applicant']=test['Co-Applicant'].astype(np.int64)\n"
   ]
  },
  {
   "cell_type": "code",
   "execution_count": 194,
   "id": "73bf191b",
   "metadata": {},
   "outputs": [],
   "source": [
    "col1=test.columns\n",
    "\n",
    "for c in col1:\n",
    "    if test[c].isna().sum()>1:\n",
    "        if test[c].dtype=='float64':\n",
    "            test[c]=test[c].fillna(test[c].mean())\n",
    "        elif test[c].dtype=='int64':\n",
    "            test[c]=test[c].fillna(test[c].mean)"
   ]
  },
  {
   "cell_type": "code",
   "execution_count": 195,
   "id": "c5b5bf3e",
   "metadata": {},
   "outputs": [],
   "source": [
    "test['Gender'] = test['Gender'].replace(np.nan, 'Unspecified')\n",
    "test['Income Stability'] = test['Income Stability'].fillna(test['Income Stability'].mode().iloc[0])\n",
    "test['Type of Employment'] = test['Type of Employment'].fillna(test['Type of Employment'].mode().iloc[0])\n",
    "test['Has Active Credit Card'] = test['Has Active Credit Card'].fillna(test['Has Active Credit Card'].mode().iloc[0])\n",
    "test['Property Location'] = test['Property Location'].fillna(test['Property Location'].mode().iloc[0])"
   ]
  },
  {
   "cell_type": "code",
   "execution_count": 196,
   "id": "6b9cb234",
   "metadata": {},
   "outputs": [],
   "source": [
    "test = test[['Current Loan Expenses (USD)', 'Customer ID', 'Property Price', 'Loan Amount Request (USD)', 'Credit Score', 'Income Stability', 'Dependents', 'Expense Type 2', 'Location', 'Profession', 'Age']]\n"
   ]
  },
  {
   "cell_type": "code",
   "execution_count": 197,
   "id": "4360f2ba",
   "metadata": {},
   "outputs": [
    {
     "name": "stdout",
     "output_type": "stream",
     "text": [
      "<class 'pandas.core.frame.DataFrame'>\n",
      "RangeIndex: 20000 entries, 0 to 19999\n",
      "Data columns (total 11 columns):\n",
      " #   Column                       Non-Null Count  Dtype  \n",
      "---  ------                       --------------  -----  \n",
      " 0   Current Loan Expenses (USD)  20000 non-null  float64\n",
      " 1   Customer ID                  20000 non-null  object \n",
      " 2   Property Price               20000 non-null  float64\n",
      " 3   Loan Amount Request (USD)    20000 non-null  float64\n",
      " 4   Credit Score                 20000 non-null  float64\n",
      " 5   Income Stability             20000 non-null  object \n",
      " 6   Dependents                   20000 non-null  float64\n",
      " 7   Expense Type 2               20000 non-null  object \n",
      " 8   Location                     20000 non-null  object \n",
      " 9   Profession                   20000 non-null  object \n",
      " 10  Age                          20000 non-null  int64  \n",
      "dtypes: float64(5), int64(1), object(5)\n",
      "memory usage: 1.7+ MB\n",
      "None\n"
     ]
    }
   ],
   "source": [
    "print(test.info())"
   ]
  },
  {
   "cell_type": "code",
   "execution_count": 198,
   "id": "9a55d72f",
   "metadata": {},
   "outputs": [],
   "source": [
    "test=test.values\n",
    "test[:,1] = le.fit_transform(test[:,1])\n",
    "test[:,5] = le.fit_transform(test[:,5])\n",
    "test[:,7] = le.fit_transform(test[:,7])\n",
    "test[:,8] = le.fit_transform(test[:,8])\n",
    "test[:,9] = le.fit_transform(test[:,9])"
   ]
  },
  {
   "cell_type": "code",
   "execution_count": 199,
   "id": "7a53bcd1",
   "metadata": {},
   "outputs": [],
   "source": [
    "test=sc.transform(test)"
   ]
  },
  {
   "cell_type": "code",
   "execution_count": 200,
   "id": "b7fb7970",
   "metadata": {},
   "outputs": [],
   "source": [
    "final=regressor.predict(test)"
   ]
  },
  {
   "cell_type": "code",
   "execution_count": 201,
   "id": "416da36a",
   "metadata": {},
   "outputs": [
    {
     "name": "stdout",
     "output_type": "stream",
     "text": [
      "[103345.256  78614.327      0.    ...  11522.573  64528.211  77849.074]\n"
     ]
    }
   ],
   "source": [
    "print(final)"
   ]
  },
  {
   "cell_type": "code",
   "execution_count": 202,
   "id": "3feedef4",
   "metadata": {},
   "outputs": [],
   "source": [
    "from sklearn.model_selection import cross_val_score\n",
    "from sklearn.model_selection import RepeatedKFold\n",
    "cv = RepeatedKFold(n_splits=10, n_repeats=3, random_state=1)\n",
    "n_scores = cross_val_score(regressor, X_test, y_test, scoring='r2', cv=cv, n_jobs=-1, error_score='raise')"
   ]
  },
  {
   "cell_type": "code",
   "execution_count": 203,
   "id": "7f4a4d52",
   "metadata": {},
   "outputs": [
    {
     "name": "stdout",
     "output_type": "stream",
     "text": [
      "r2: 0.893 (0.026)\n"
     ]
    }
   ],
   "source": [
    "print('r2: %.3f (%.3f)' % (np.mean(n_scores), np.std(n_scores)))"
   ]
  },
  {
   "cell_type": "code",
   "execution_count": 204,
   "id": "8071e8b8",
   "metadata": {},
   "outputs": [],
   "source": [
    "final=pd.Series(final,name='Loan Sanction Amount (USD)')"
   ]
  },
  {
   "cell_type": "code",
   "execution_count": null,
   "id": "7ea153aa",
   "metadata": {},
   "outputs": [],
   "source": []
  },
  {
   "cell_type": "code",
   "execution_count": 205,
   "id": "b59a635c",
   "metadata": {},
   "outputs": [],
   "source": [
    "output=pd.concat([test1['Customer ID'],final],axis=1)"
   ]
  },
  {
   "cell_type": "code",
   "execution_count": 206,
   "id": "08371879",
   "metadata": {},
   "outputs": [
    {
     "name": "stdout",
     "output_type": "stream",
     "text": [
      "  Customer ID  Loan Sanction Amount (USD)\n",
      "0     C-26247                  103345.256\n",
      "1     C-35067                   78614.327\n",
      "2     C-34590                       0.000\n",
      "3     C-16668                   71608.961\n",
      "4     C-12196                   71065.366\n"
     ]
    }
   ],
   "source": [
    "print(output.head())"
   ]
  },
  {
   "cell_type": "code",
   "execution_count": 207,
   "id": "283fa300",
   "metadata": {},
   "outputs": [
    {
     "name": "stdout",
     "output_type": "stream",
     "text": [
      "-599.4\n"
     ]
    }
   ],
   "source": [
    "print(min(output['Loan Sanction Amount (USD)']))"
   ]
  },
  {
   "cell_type": "code",
   "execution_count": 208,
   "id": "ae6266b5",
   "metadata": {},
   "outputs": [],
   "source": [
    "output.to_csv('submission.csv',index=False)"
   ]
  },
  {
   "cell_type": "code",
   "execution_count": 209,
   "id": "81fb199c",
   "metadata": {},
   "outputs": [
    {
     "name": "stdout",
     "output_type": "stream",
     "text": [
      "                            Customer ID\n",
      "Loan Sanction Amount (USD)             \n",
      "-599.400                              1\n",
      "-499.500                              7\n",
      "-399.600                              7\n",
      "-299.700                             15\n",
      "-199.800                             48\n",
      "...                                 ...\n",
      " 275798.464                           1\n",
      " 286475.291                           1\n",
      " 289116.529                           1\n",
      " 310611.187                           1\n",
      " 351749.856                           1\n",
      "\n",
      "[17479 rows x 1 columns]\n"
     ]
    }
   ],
   "source": [
    "print(output.groupby('Loan Sanction Amount (USD)').count())"
   ]
  },
  {
   "cell_type": "code",
   "execution_count": null,
   "id": "93b3a36c",
   "metadata": {},
   "outputs": [],
   "source": []
  },
  {
   "cell_type": "code",
   "execution_count": 259,
   "id": "bea1829f",
   "metadata": {},
   "outputs": [
    {
     "data": {
      "text/plain": [
       "High    2544\n",
       "Low     2544\n",
       "Name: Income Stability, dtype: int64"
      ]
     },
     "execution_count": 259,
     "metadata": {},
     "output_type": "execute_result"
    }
   ],
   "source": [
    "new_df = train.groupby('Income Stability').apply(lambda x: x.sample(n=2544)).reset_index(drop = True)\n",
    "\n",
    "new_df['Income Stability'].value_counts()\n",
    "\n"
   ]
  },
  {
   "cell_type": "code",
   "execution_count": 260,
   "id": "aefaa87a",
   "metadata": {},
   "outputs": [],
   "source": [
    "new_df = new_df[['Current Loan Expenses (USD)', 'Customer ID', 'Property Price', 'Loan Amount Request (USD)', 'Credit Score', 'Income Stability', 'Dependents', 'Expense Type 2', 'Location', 'Profession', 'Age','Loan Sanction Amount (USD)']]\n"
   ]
  },
  {
   "cell_type": "code",
   "execution_count": 261,
   "id": "0f09be11",
   "metadata": {
    "scrolled": true
   },
   "outputs": [
    {
     "name": "stdout",
     "output_type": "stream",
     "text": [
      "   Current Loan Expenses (USD) Customer ID  Property Price  \\\n",
      "0                       925.50     C-39901       256066.32   \n",
      "1                       134.33      C-7265        43879.02   \n",
      "2                       147.29     C-17828        36881.86   \n",
      "3                       207.52     C-28295        45484.33   \n",
      "4                       381.53     C-42465       194894.61   \n",
      "\n",
      "   Loan Amount Request (USD)  Credit Score Income Stability  Dependents  \\\n",
      "0                  206762.45        738.56             High         2.0   \n",
      "1                   26429.23        868.89             High         1.0   \n",
      "2                   31521.70        645.09             High         4.0   \n",
      "3                   36058.71        833.06             High         2.0   \n",
      "4                  128115.45        802.22             High         1.0   \n",
      "\n",
      "  Expense Type 2    Location Profession  Age  Loan Sanction Amount (USD)  \n",
      "0              Y  Semi-Urban  Pensioner   63                   144733.72  \n",
      "1              Y       Urban  Pensioner   64                    19821.92  \n",
      "2              Y  Semi-Urban  Pensioner   62                    22065.19  \n",
      "3              Y  Semi-Urban  Pensioner   60                    28846.97  \n",
      "4              Y  Semi-Urban  Pensioner   64                        0.00  \n"
     ]
    }
   ],
   "source": [
    "print(new_df.head())"
   ]
  },
  {
   "cell_type": "code",
   "execution_count": 262,
   "id": "383229a7",
   "metadata": {},
   "outputs": [
    {
     "name": "stdout",
     "output_type": "stream",
     "text": [
      "Current Loan Expenses (USD)    0\n",
      "Customer ID                    0\n",
      "Property Price                 0\n",
      "Loan Amount Request (USD)      0\n",
      "Credit Score                   0\n",
      "Income Stability               0\n",
      "Dependents                     0\n",
      "Expense Type 2                 0\n",
      "Location                       0\n",
      "Profession                     0\n",
      "Age                            0\n",
      "Loan Sanction Amount (USD)     0\n",
      "dtype: int64\n"
     ]
    }
   ],
   "source": [
    "print(new_df.isna().sum())"
   ]
  },
  {
   "cell_type": "code",
   "execution_count": 263,
   "id": "34ffc4db",
   "metadata": {},
   "outputs": [],
   "source": [
    "X_new=new_df.iloc[:,:-1].values\n",
    "y_new=new_df.iloc[:,-1].values"
   ]
  },
  {
   "cell_type": "code",
   "execution_count": 264,
   "id": "672e154d",
   "metadata": {},
   "outputs": [
    {
     "name": "stdout",
     "output_type": "stream",
     "text": [
      "[[925.5 3365 256066.32 ... 1 1 63]\n",
      " [134.33 4794 43879.02 ... 2 1 64]\n",
      " [147.29 870 36881.86 ... 1 1 62]\n",
      " ...\n",
      " [99.41 846 32315.46 ... 0 4 51]\n",
      " [834.47 216 429527.76 ... 1 4 47]\n",
      " [403.07 2612 164503.91 ... 0 4 23]]\n"
     ]
    }
   ],
   "source": [
    "\n",
    "X_new[:,1] = le.fit_transform(X_new[:,1])\n",
    "X_new[:,5] = le.fit_transform(X_new[:,5])\n",
    "X_new[:,7] = le.fit_transform(X_new[:,7])\n",
    "X_new[:,8] = le.fit_transform(X_new[:,8])\n",
    "X_new[:,9] = le.fit_transform(X_new[:,9])\n",
    "print(X_new)"
   ]
  },
  {
   "cell_type": "code",
   "execution_count": 265,
   "id": "8c72f140",
   "metadata": {},
   "outputs": [],
   "source": [
    "from sklearn.model_selection import train_test_split\n",
    "X_train1, X_test1, y_train1, y_test1 = train_test_split(X_new, y_new, test_size = 0.2, random_state = 0)"
   ]
  },
  {
   "cell_type": "code",
   "execution_count": 266,
   "id": "2cbbbddb",
   "metadata": {},
   "outputs": [],
   "source": [
    "from sklearn.preprocessing import StandardScaler\n",
    "sc = StandardScaler(with_mean=False)\n",
    "X_train1 = sc.fit_transform(X_train1)\n",
    "X_test1 = sc.transform(X_test1)"
   ]
  },
  {
   "cell_type": "code",
   "execution_count": 267,
   "id": "664f6ea4",
   "metadata": {},
   "outputs": [
    {
     "data": {
      "text/plain": [
       "RandomForestRegressor(n_estimators=10, random_state=0)"
      ]
     },
     "execution_count": 267,
     "metadata": {},
     "output_type": "execute_result"
    }
   ],
   "source": [
    "from sklearn.ensemble import RandomForestRegressor\n",
    "regressor1 = RandomForestRegressor(n_estimators = 10, random_state = 0)\n",
    "regressor1.fit(X_train1, y_train1)"
   ]
  },
  {
   "cell_type": "code",
   "execution_count": 268,
   "id": "9bbaad91",
   "metadata": {},
   "outputs": [],
   "source": [
    "y_pred1=regressor.predict(X_test1)\n"
   ]
  },
  {
   "cell_type": "code",
   "execution_count": 269,
   "id": "2038916f",
   "metadata": {},
   "outputs": [
    {
     "name": "stdout",
     "output_type": "stream",
     "text": [
      "[[     0.         0.   ]\n",
      " [117806.471 106018.22 ]\n",
      " [  6143.511      0.   ]\n",
      " ...\n",
      " [     0.     40882.68 ]\n",
      " [  9618.739  17468.56 ]\n",
      " [ 87269.68   84304.96 ]]\n"
     ]
    }
   ],
   "source": [
    "print(np.concatenate((y_pred1.reshape(len(y_pred1),1), y_test1.reshape(len(y_test1),1)),1))"
   ]
  },
  {
   "cell_type": "code",
   "execution_count": 270,
   "id": "14b9034b",
   "metadata": {},
   "outputs": [
    {
     "name": "stdout",
     "output_type": "stream",
     "text": [
      "0.8172081677100574\n"
     ]
    }
   ],
   "source": [
    "print(r2_score(y_test1,y_pred1))\n"
   ]
  },
  {
   "cell_type": "code",
   "execution_count": 272,
   "id": "4572559d",
   "metadata": {},
   "outputs": [],
   "source": [
    "y_pred2=regressor1.predict(test)"
   ]
  },
  {
   "cell_type": "code",
   "execution_count": 273,
   "id": "76bdf457",
   "metadata": {},
   "outputs": [
    {
     "name": "stdout",
     "output_type": "stream",
     "text": [
      "[105290.993  77754.721      0.    ...  12384.973  70932.569  83059.363]\n"
     ]
    }
   ],
   "source": [
    "print(y_pred2)"
   ]
  },
  {
   "cell_type": "code",
   "execution_count": 274,
   "id": "f0535ac8",
   "metadata": {},
   "outputs": [],
   "source": [
    "from sklearn.model_selection import cross_val_score\n",
    "from sklearn.model_selection import RepeatedKFold\n",
    "cv = RepeatedKFold(n_splits=10, n_repeats=3, random_state=1)\n",
    "n_scores = cross_val_score(regressor1, X_test1, y_test1, scoring='r2', cv=cv, n_jobs=-1, error_score='raise')"
   ]
  },
  {
   "cell_type": "code",
   "execution_count": 275,
   "id": "42e552dd",
   "metadata": {},
   "outputs": [
    {
     "name": "stdout",
     "output_type": "stream",
     "text": [
      "r2: 0.819 (0.075)\n"
     ]
    }
   ],
   "source": [
    "print('r2: %.3f (%.3f)' % (np.mean(n_scores), np.std(n_scores)))"
   ]
  },
  {
   "cell_type": "code",
   "execution_count": 276,
   "id": "a9cf994e",
   "metadata": {},
   "outputs": [],
   "source": [
    "y_pred2=pd.Series(y_pred2,name='Loan Sanction Amount (USD)')"
   ]
  },
  {
   "cell_type": "code",
   "execution_count": 277,
   "id": "9e896a85",
   "metadata": {},
   "outputs": [],
   "source": [
    "output1=pd.concat([test1['Customer ID'],y_pred2],axis=1)"
   ]
  },
  {
   "cell_type": "code",
   "execution_count": 278,
   "id": "45c8d11f",
   "metadata": {},
   "outputs": [
    {
     "name": "stdout",
     "output_type": "stream",
     "text": [
      "-599.4\n"
     ]
    }
   ],
   "source": [
    "print(min(output1['Loan Sanction Amount (USD)']))"
   ]
  },
  {
   "cell_type": "code",
   "execution_count": 279,
   "id": "6d2ad0c3",
   "metadata": {},
   "outputs": [],
   "source": [
    "output1.to_csv('submission.csv',index=False)"
   ]
  },
  {
   "cell_type": "code",
   "execution_count": 280,
   "id": "b6d2aeee",
   "metadata": {},
   "outputs": [
    {
     "name": "stdout",
     "output_type": "stream",
     "text": [
      "                            Customer ID\n",
      "Loan Sanction Amount (USD)             \n",
      "-599.400                              1\n",
      "-499.500                              7\n",
      "-399.600                              7\n",
      "-299.700                             15\n",
      "-199.800                             48\n",
      "...                                 ...\n",
      " 275798.464                           1\n",
      " 286475.291                           1\n",
      " 289116.529                           1\n",
      " 310611.187                           1\n",
      " 351749.856                           1\n",
      "\n",
      "[17479 rows x 1 columns]\n"
     ]
    }
   ],
   "source": [
    "print(output.groupby('Loan Sanction Amount (USD)').count())"
   ]
  },
  {
   "cell_type": "code",
   "execution_count": null,
   "id": "46ed3d59",
   "metadata": {},
   "outputs": [],
   "source": []
  }
 ],
 "metadata": {
  "kernelspec": {
   "display_name": "Python 3",
   "language": "python",
   "name": "python3"
  },
  "language_info": {
   "codemirror_mode": {
    "name": "ipython",
    "version": 3
   },
   "file_extension": ".py",
   "mimetype": "text/x-python",
   "name": "python",
   "nbconvert_exporter": "python",
   "pygments_lexer": "ipython3",
   "version": "3.8.3"
  }
 },
 "nbformat": 4,
 "nbformat_minor": 5
}
